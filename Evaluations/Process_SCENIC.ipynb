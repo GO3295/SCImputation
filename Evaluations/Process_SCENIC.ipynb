{
 "cells": [
  {
   "cell_type": "code",
   "execution_count": null,
   "id": "9c58c090",
   "metadata": {},
   "outputs": [],
   "source": [
    "import os, glob, re, pickle\n",
    "from functools import partial\n",
    "from collections import OrderedDict\n",
    "import operator as op\n",
    "from cytoolz import compose\n",
    "\n",
    "import pandas as pd\n",
    "import seaborn as sns\n",
    "import numpy as np\n",
    "import scanpy as sc\n",
    "import anndata as ad\n",
    "import matplotlib as mpl\n",
    "import matplotlib.pyplot as plt\n",
    "\n",
    "from pyscenic.export import export2loom, add_scenic_metadata\n",
    "from pyscenic.utils import load_motifs\n",
    "from pyscenic.transform import df2regulons\n",
    "from pyscenic.aucell import aucell\n",
    "from pyscenic.binarization import binarize\n",
    "from pyscenic.rss import regulon_specificity_scores\n",
    "from pyscenic.plotting import plot_binarization, plot_rss\n",
    "\n",
    "from IPython.display import HTML, display"
   ]
  },
  {
   "cell_type": "code",
   "execution_count": null,
   "id": "29dabe52",
   "metadata": {},
   "outputs": [],
   "source": [
    "RESOURCES_FOLDERNAME = \"test_SCENIC/test_run/protocol/resources/\"\n",
    "AUXILLIARIES_FOLDERNAME = \"test_SCENIC/test_run/protocol/auxilliaries/\"\n",
    "RESULTS_FOLDERNAME = \"test_SCENIC/ImputeEvaluation/results/\""
   ]
  },
  {
   "cell_type": "code",
   "execution_count": null,
   "id": "ae8cb271",
   "metadata": {},
   "outputs": [],
   "source": [
    "# Downloaded fromm pySCENIC github repo: https://github.com/aertslab/pySCENIC/tree/master/resources\n",
    "HUMAN_TFS_FNAME = os.path.join(AUXILLIARIES_FOLDERNAME, 'lambert2018.txt')\n",
    "# Ranking databases. Downloaded from cisTargetDB: https://resources.aertslab.org/cistarget/\n",
    "RANKING_DBS_FNAMES = list(map(lambda fn: os.path.join(AUXILLIARIES_FOLDERNAME, fn),\n",
    "                       ['hg19-500bp-upstream-10species.mc9nr.genes_vs_motifs.rankings.feather',\n",
    "                       'hg19-tss-centered-10kb-10species.mc9nr.genes_vs_motifs.rankings.feather',\n",
    "                        'hg19-tss-centered-5kb-10species.mc9nr.genes_vs_motifs.rankings.feather']))\n",
    "# Motif annotations. Downloaded from cisTargetDB: https://resources.aertslab.org/cistarget/\n",
    "MOTIF_ANNOTATIONS_FNAME = os.path.join(AUXILLIARIES_FOLDERNAME, 'motifs-v10nr_clust-nr.hgnc-m0.001-o0.0.tbl')"
   ]
  },
  {
   "cell_type": "code",
   "execution_count": null,
   "id": "a0a50709",
   "metadata": {},
   "outputs": [],
   "source": [
    "Selected_Genes = ['PAX5','TCF7','EOMES','TBX21','PRRX2','MAFB','SOX7','MITF','MYC','TWIST1']"
   ]
  },
  {
   "cell_type": "code",
   "execution_count": null,
   "id": "ae1af773",
   "metadata": {},
   "outputs": [],
   "source": []
  },
  {
   "cell_type": "code",
   "execution_count": null,
   "id": "0ad2f569",
   "metadata": {},
   "outputs": [],
   "source": [
    "#raw"
   ]
  },
  {
   "cell_type": "code",
   "execution_count": null,
   "id": "6cd0eaea",
   "metadata": {},
   "outputs": [],
   "source": [
    "DATASET_ID = \"GSE115978raw\""
   ]
  },
  {
   "cell_type": "code",
   "execution_count": null,
   "id": "abcf2eaf",
   "metadata": {},
   "outputs": [],
   "source": [
    "\n",
    "CELL_ANNOTATIONS_FNAME = \"test_SCENIC/ImputeEvaluation/GSE115978_cell.annotations.csv\"\n",
    "\n",
    "SAMPLE_METADATA_FNAME = os.path.join(RESOURCES_FOLDERNAME, \"mmc1.xlsx\")\n",
    "\n",
    "EXP_MTX_COUNTS_FNAME = \"test_SCENIC/ImputeEvaluation/SCENIC_GSE115978_rawlognorm.txt\""
   ]
  },
  {
   "cell_type": "code",
   "execution_count": null,
   "id": "fe28ce15",
   "metadata": {},
   "outputs": [],
   "source": [
    "METADATA_FNAME = os.path.join(RESULTS_FOLDERNAME, '{}.metadata.csv'.format(DATASET_ID))\n",
    "ADJACENCIES_FNAME = os.path.join(RESULTS_FOLDERNAME, '{}.adjacencies.tsv'.format(DATASET_ID))\n",
    "MOTIFS_FNAME = os.path.join(RESULTS_FOLDERNAME, '{}.motifs.csv'.format(DATASET_ID))\n",
    "REGULONS_DAT_FNAME = os.path.join(RESULTS_FOLDERNAME, '{}.regulons.dat'.format(DATASET_ID))\n",
    "AUCELL_MTX_FNAME = os.path.join(RESULTS_FOLDERNAME, '{}.auc.csv'.format(DATASET_ID))\n",
    "BIN_MTX_FNAME = os.path.join(RESULTS_FOLDERNAME, '{}.bin.csv'.format(DATASET_ID))\n",
    "THR_FNAME = os.path.join(RESULTS_FOLDERNAME, '{}.thresholds.csv'.format(DATASET_ID))\n",
    "ANNDATA_FNAME = os.path.join(RESULTS_FOLDERNAME, '{}.h5ad'.format(DATASET_ID))\n",
    "EXP_MTX_QC_FNAME = os.path.join(RESULTS_FOLDERNAME, '{}.forSCENIC.csv'.format(DATASET_ID))"
   ]
  },
  {
   "cell_type": "code",
   "execution_count": null,
   "id": "97e29ab5",
   "metadata": {},
   "outputs": [],
   "source": [
    "df_annotations = pd.read_csv(CELL_ANNOTATIONS_FNAME)\n",
    "df_annotations['samples'] = df_annotations['samples'].str.upper()\n",
    "df_annotations.rename(columns={'cell.types': 'cell_type', 'cells': 'cell_id', 'samples': 'sample_id', \n",
    "                               'treatment.group': 'treatment_group', 'Cohort': 'cohort'}, inplace=True)\n",
    "df_annotations['cell_type'] = df_annotations.cell_type.replace({\n",
    "    'Mal': 'Malignant Cell',\n",
    "    'Endo.': 'Endothelial Cell',\n",
    "    'T.CD4': 'Thelper Cell',\n",
    "    'CAF': 'Fibroblast',\n",
    "    'T.CD8': 'Tcytotoxic Cell',\n",
    "    'T.cell': 'T Cell',\n",
    "    'NK': 'NK Cell',\n",
    "    'B.cell': 'B Cell'})\n",
    "df_samples = pd.read_excel(SAMPLE_METADATA_FNAME, header=2)\n",
    "df_samples = df_samples.drop(['Cohort'], axis=1)\n",
    "df_samples['Sample'] = df_samples.Sample.str.upper()\n",
    "df_metadata = pd.merge(df_annotations, df_samples, left_on='sample_id', right_on='Sample')\n",
    "df_metadata = df_metadata.drop(['Sample', 'treatment_group'], axis=1)\n",
    "df_metadata.rename(columns={'Patient': 'patient_id',\n",
    "                           'Age': 'age', 'Sex': 'sex', 'Lesion type': 'lesion_type', 'Site': 'site',\n",
    "                           'Treatment': 'treatment', 'Treatment group': 'treatment_group'}, inplace=True)\n",
    "#df_metadata.to_csv(METADATA_FNAME, index=False)\n",
    "df_metadata.head()"
   ]
  },
  {
   "cell_type": "code",
   "execution_count": null,
   "id": "edc318c1",
   "metadata": {},
   "outputs": [],
   "source": [
    "df_counts = pd.read_csv(EXP_MTX_COUNTS_FNAME,index_col=0,delimiter='\\t')\n",
    "df_counts.shape"
   ]
  },
  {
   "cell_type": "code",
   "execution_count": null,
   "id": "dee9b24c",
   "metadata": {},
   "outputs": [],
   "source": [
    "adata = sc.AnnData(X=df_counts.T.sort_index())\n",
    "df_obs = df_metadata[['cell_id', 'sample_id', 'cell_type', 'cohort', 'patient_id', 'age', 'sex', 'treatment',\n",
    "                                                           'treatment_group', 'lesion_type', 'site']].set_index('cell_id').sort_index()\n",
    "adata.obs = df_obs\n",
    "adata.var_names_make_unique()\n",
    "adata"
   ]
  },
  {
   "cell_type": "code",
   "execution_count": null,
   "id": "ea72e58e",
   "metadata": {},
   "outputs": [],
   "source": [
    "adata.to_df().to_csv(EXP_MTX_QC_FNAME)"
   ]
  },
  {
   "cell_type": "code",
   "execution_count": null,
   "id": "c8729e10",
   "metadata": {},
   "outputs": [],
   "source": [
    "!pyscenic grn {EXP_MTX_QC_FNAME} {HUMAN_TFS_FNAME} -o {ADJACENCIES_FNAME} --num_workers 4"
   ]
  },
  {
   "cell_type": "code",
   "execution_count": null,
   "id": "6ccdd45e",
   "metadata": {},
   "outputs": [],
   "source": [
    "!pyscenic ctx {ADJACENCIES_FNAME} {DBS_PARAM} --annotations_fname {MOTIF_ANNOTATIONS_FNAME} --expression_mtx_fname {EXP_MTX_QC_FNAME} --output {MOTIFS_FNAME} --num_workers 26"
   ]
  },
  {
   "cell_type": "code",
   "execution_count": null,
   "id": "2556f8a8",
   "metadata": {},
   "outputs": [],
   "source": [
    "df_motifs = load_motifs(MOTIFS_FNAME)"
   ]
  },
  {
   "cell_type": "code",
   "execution_count": null,
   "id": "767d503f",
   "metadata": {},
   "outputs": [],
   "source": [
    "np.sum(df_motifs.index.isin(Selected_Genes,level='TF'))"
   ]
  },
  {
   "cell_type": "code",
   "execution_count": null,
   "id": "5c51509f",
   "metadata": {},
   "outputs": [],
   "source": [
    "def derive_regulons(motifs, db_names=('hg19-tss-centered-10kb-10species.mc9nr.genes_vs_motifs.rankings', \n",
    "                                 'hg19-500bp-upstream-10species.mc9nr.genes_vs_motifs.rankings', \n",
    "                                 'hg19-tss-centered-5kb-10species.mc9nr.genes_vs_motifs.rankings')):\n",
    "    motifs.columns = motifs.columns.droplevel(0)\n",
    "\n",
    "    def contains(*elems):\n",
    "        def f(context):\n",
    "            return any(elem in context for elem in elems)\n",
    "        return f\n",
    "\n",
    "    # For the creation of regulons we only keep the 10-species databases and the activating modules. We also remove the\n",
    "    # enriched motifs for the modules that were created using the method 'weight>50.0%' (because these modules are not part\n",
    "    # of the default settings of modules_from_adjacencies anymore.\n",
    "    motifs = motifs[\n",
    "        np.fromiter(map(compose(op.not_, contains('weight>50.0%')), motifs.Context), dtype=np.bool) & \\\n",
    "        np.fromiter(map(contains(*db_names), motifs.Context), dtype=np.bool) & \\\n",
    "        np.fromiter(map(contains('activating'), motifs.Context), dtype=np.bool)]\n",
    "\n",
    "    # We build regulons only using enriched motifs with a NES of 3.0 or higher; we take only directly annotated TFs or TF annotated\n",
    "    # for an orthologous gene into account; and we only keep regulons with at least 10 genes.\n",
    "    regulons = list(filter(lambda r: len(r) >= 10, df2regulons(motifs[(motifs['NES'] >= 2.0)\n",
    "                                                                      & ((motifs['Annotation'] == 'gene is directly annotated')\n",
    "                                                                        | (motifs['Annotation'].str.startswith('gene is orthologous to')\n",
    "                                                                           & motifs['Annotation'].str.endswith('which is directly annotated for motif')))\n",
    "                                                                     ])))\n",
    "    \n",
    "    # Rename regulons, i.e. remove suffix.\n",
    "    return list(map(lambda r: r.rename(r.transcription_factor), regulons))"
   ]
  },
  {
   "cell_type": "code",
   "execution_count": null,
   "id": "7d4578e8",
   "metadata": {},
   "outputs": [],
   "source": [
    "regulons = derive_regulons(df_motifs)"
   ]
  },
  {
   "cell_type": "code",
   "execution_count": null,
   "id": "a1c8f456",
   "metadata": {},
   "outputs": [],
   "source": [
    "with open(REGULONS_DAT_FNAME, 'wb') as f:\n",
    "    pickle.dump(regulons, f)\n",
    "\n",
    "auc_mtx = aucell(df_counts.T,regulons,num_workers=16) \n",
    "auc_mtx.to_csv(AUCELL_MTX_FNAME)\n",
    "\n",
    "auc_mtx = pd.read_csv(AUCELL_MTX_FNAME, index_col=0)\n",
    "tmpG = ['EOMES','MAFB','TBX21','MITF','MYC','PAX5','TCF7']\n",
    "auc_for_bin = auc_mtx[tmpG]\n",
    "auc_for_bin\n",
    "\n",
    "bin_mtx, thresholds = binarize(auc_for_bin)\n",
    "bin_mtx.to_csv(BIN_MTX_FNAME)\n",
    "thresholds.to_frame().rename(columns={0:'threshold'}).to_csv(THR_FNAME)\n",
    "\n",
    "bin_mtx = pd.read_csv(BIN_MTX_FNAME, index_col=0)\n",
    "thresholds = pd.read_csv(THR_FNAME, index_col=0).threshold\n",
    "\n",
    "add_scenic_metadata(adata, auc_mtx, regulons)\n",
    "\n",
    "df_obs = adata.obs\n",
    "signature_column_names = list(df_obs.select_dtypes('number').columns)\n",
    "signature_column_names = list(filter(lambda s: s.startswith('Regulon('), signature_column_names))\n",
    "df_scores = df_obs[signature_column_names + ['cell_type']]\n",
    "df_results = ((df_scores.groupby(by='cell_type').mean() - df_obs[signature_column_names].mean())/ df_obs[signature_column_names].std()).stack().reset_index().rename(columns={'level_1': 'regulon', 0:'Z'})\n",
    "df_results['regulon'] = list(map(lambda s: s[8:-1], df_results.regulon))\n",
    "df_results[(df_results.Z >= 3.0)].sort_values('Z', ascending=False).head()\n",
    "df_results.to_csv('test_SCENIC/ImputeEvaluation/results/GSE115978raw_CellTypeRegulonZ.csv')"
   ]
  },
  {
   "cell_type": "code",
   "execution_count": null,
   "id": "c6473d2f",
   "metadata": {},
   "outputs": [],
   "source": []
  },
  {
   "cell_type": "code",
   "execution_count": null,
   "id": "c6f0c2f3",
   "metadata": {},
   "outputs": [],
   "source": [
    "#afMF"
   ]
  },
  {
   "cell_type": "code",
   "execution_count": null,
   "id": "a394e08d",
   "metadata": {},
   "outputs": [],
   "source": [
    "DATASET_ID = \"GSE115978afMF\"\n",
    "\n",
    "CELL_ANNOTATIONS_FNAME = \"test_SCENIC/ImputeEvaluation/GSE115978_cell.annotations.csv\"\n",
    "\n",
    "SAMPLE_METADATA_FNAME = os.path.join(RESOURCES_FOLDERNAME,\"mmc1.xlsx\")\n",
    "\n",
    "EXP_MTX_COUNTS_FNAME = \"afMF/imputed_data/SCENIC_GSE115978_sigma3_0_convergence_True.txt\"\n",
    "\n",
    "METADATA_FNAME = os.path.join(RESULTS_FOLDERNAME, '{}.metadata.csv'.format(DATASET_ID))\n",
    "ADJACENCIES_FNAME = os.path.join(RESULTS_FOLDERNAME, '{}.adjacencies.tsv'.format(DATASET_ID))\n",
    "MOTIFS_FNAME = os.path.join(RESULTS_FOLDERNAME, '{}.motifs.csv'.format(DATASET_ID))\n",
    "REGULONS_DAT_FNAME = os.path.join(RESULTS_FOLDERNAME, '{}.regulons.dat'.format(DATASET_ID))\n",
    "AUCELL_MTX_FNAME = os.path.join(RESULTS_FOLDERNAME, '{}.auc.csv'.format(DATASET_ID))\n",
    "BIN_MTX_FNAME = os.path.join(RESULTS_FOLDERNAME, '{}.bin.csv'.format(DATASET_ID))\n",
    "THR_FNAME = os.path.join(RESULTS_FOLDERNAME, '{}.thresholds.csv'.format(DATASET_ID))\n",
    "ANNDATA_FNAME = os.path.join(RESULTS_FOLDERNAME, '{}.h5ad'.format(DATASET_ID))\n",
    "EXP_MTX_QC_FNAME = os.path.join(RESULTS_FOLDERNAME, '{}.forSCENIC.csv'.format(DATASET_ID))"
   ]
  },
  {
   "cell_type": "code",
   "execution_count": null,
   "id": "1f0e535a",
   "metadata": {},
   "outputs": [],
   "source": [
    "df_annotations = pd.read_csv(CELL_ANNOTATIONS_FNAME)\n",
    "df_annotations['samples'] = df_annotations['samples'].str.upper()\n",
    "df_annotations.rename(columns={'cell.types': 'cell_type', 'cells': 'cell_id', 'samples': 'sample_id', \n",
    "                               'treatment.group': 'treatment_group', 'Cohort': 'cohort'}, inplace=True)\n",
    "df_annotations['cell_type'] = df_annotations.cell_type.replace({\n",
    "    'Mal': 'Malignant Cell',\n",
    "    'Endo.': 'Endothelial Cell',\n",
    "    'T.CD4': 'Thelper Cell',\n",
    "    'CAF': 'Fibroblast',\n",
    "    'T.CD8': 'Tcytotoxic Cell',\n",
    "    'T.cell': 'T Cell',\n",
    "    'NK': 'NK Cell',\n",
    "    'B.cell': 'B Cell'})\n",
    "df_samples = pd.read_excel(SAMPLE_METADATA_FNAME, header=2)\n",
    "df_samples = df_samples.drop(['Cohort'], axis=1)\n",
    "df_samples['Sample'] = df_samples.Sample.str.upper()\n",
    "df_metadata = pd.merge(df_annotations, df_samples, left_on='sample_id', right_on='Sample')\n",
    "df_metadata = df_metadata.drop(['Sample', 'treatment_group'], axis=1)\n",
    "df_metadata.rename(columns={'Patient': 'patient_id',\n",
    "                           'Age': 'age', 'Sex': 'sex', 'Lesion type': 'lesion_type', 'Site': 'site',\n",
    "                           'Treatment': 'treatment', 'Treatment group': 'treatment_group'}, inplace=True)\n",
    "#df_metadata.to_csv(METADATA_FNAME, index=False)\n",
    "df_metadata.head()"
   ]
  },
  {
   "cell_type": "code",
   "execution_count": null,
   "id": "7b027d5e",
   "metadata": {},
   "outputs": [],
   "source": [
    "df_counts = pd.read_csv(EXP_MTX_COUNTS_FNAME,index_col=0,delimiter='\\t')\n",
    "print(df_counts.shape)\n",
    "\n",
    "adata = sc.AnnData(X=df_counts.T.sort_index())\n",
    "df_obs = df_metadata[['cell_id', 'sample_id', 'cell_type', 'cohort', 'patient_id', 'age', 'sex', 'treatment',\n",
    "                                                           'treatment_group', 'lesion_type', 'site']].set_index('cell_id').sort_index()\n",
    "adata.obs = df_obs\n",
    "adata.var_names_make_unique()\n",
    "print(adata)\n",
    "\n",
    "adata.to_df().to_csv(EXP_MTX_QC_FNAME)"
   ]
  },
  {
   "cell_type": "code",
   "execution_count": null,
   "id": "4758b663",
   "metadata": {},
   "outputs": [],
   "source": [
    "#batch job\n",
    "\n",
    "#!pyscenic grn {EXP_MTX_QC_FNAME} {HUMAN_TFS_FNAME} -o {ADJACENCIES_FNAME} --num_workers 4\n",
    "#!pyscenic ctx {ADJACENCIES_FNAME} {DBS_PARAM} --annotations_fname {MOTIF_ANNOTATIONS_FNAME} --expression_mtx_fname {EXP_MTX_QC_FNAME} --output {MOTIFS_FNAME} --num_workers 26"
   ]
  },
  {
   "cell_type": "code",
   "execution_count": null,
   "id": "27782c88",
   "metadata": {},
   "outputs": [],
   "source": [
    "df_motifs = load_motifs(MOTIFS_FNAME)\n",
    "def derive_regulons(motifs, db_names=('hg19-tss-centered-10kb-10species.mc9nr.genes_vs_motifs.rankings', \n",
    "                                 'hg19-500bp-upstream-10species.mc9nr.genes_vs_motifs.rankings', \n",
    "                                 'hg19-tss-centered-5kb-10species.mc9nr.genes_vs_motifs.rankings')):\n",
    "    motifs.columns = motifs.columns.droplevel(0)\n",
    "\n",
    "    def contains(*elems):\n",
    "        def f(context):\n",
    "            return any(elem in context for elem in elems)\n",
    "        return f\n",
    "\n",
    "    # For the creation of regulons we only keep the 10-species databases and the activating modules. We also remove the\n",
    "    # enriched motifs for the modules that were created using the method 'weight>50.0%' (because these modules are not part\n",
    "    # of the default settings of modules_from_adjacencies anymore.\n",
    "    motifs = motifs[\n",
    "        np.fromiter(map(compose(op.not_, contains('weight>50.0%')), motifs.Context), dtype=np.bool) & \\\n",
    "        np.fromiter(map(contains(*db_names), motifs.Context), dtype=np.bool) & \\\n",
    "        np.fromiter(map(contains('activating'), motifs.Context), dtype=np.bool)]\n",
    "\n",
    "    # We build regulons only using enriched motifs with a NES of 3.0 or higher; we take only directly annotated TFs or TF annotated\n",
    "    # for an orthologous gene into account; and we only keep regulons with at least 10 genes.\n",
    "    regulons = list(filter(lambda r: len(r) >= 10, df2regulons(motifs[(motifs['NES'] >= 2.0)\n",
    "                                                                      & ((motifs['Annotation'] == 'gene is directly annotated')\n",
    "                                                                        | (motifs['Annotation'].str.startswith('gene is orthologous to')\n",
    "                                                                           & motifs['Annotation'].str.endswith('which is directly annotated for motif')))\n",
    "                                                                     ])))\n",
    "    \n",
    "    # Rename regulons, i.e. remove suffix.\n",
    "    return list(map(lambda r: r.rename(r.transcription_factor), regulons))\n",
    "regulons = derive_regulons(df_motifs)"
   ]
  },
  {
   "cell_type": "code",
   "execution_count": null,
   "id": "f9e2d882",
   "metadata": {},
   "outputs": [],
   "source": [
    "tmp = [x.name for x in regulons]\n",
    "tmp = [x in tmp for x in ['EOMES','MAFB','TBX21','MITF','MYC','PAX5','TCF7']]\n",
    "tmp"
   ]
  },
  {
   "cell_type": "code",
   "execution_count": null,
   "id": "41d52709",
   "metadata": {},
   "outputs": [],
   "source": [
    "with open(REGULONS_DAT_FNAME, 'wb') as f:\n",
    "    pickle.dump(regulons, f)\n",
    "\n",
    "auc_mtx = aucell(df_counts.T,regulons,num_workers=16) \n",
    "auc_mtx.to_csv(AUCELL_MTX_FNAME)\n",
    "\n",
    "auc_mtx = pd.read_csv(AUCELL_MTX_FNAME, index_col=0)\n",
    "tmpG = ['EOMES','MAFB','TBX21','MITF','MYC','PAX5','TCF7']\n",
    "auc_for_bin = auc_mtx[tmpG]\n",
    "print(auc_for_bin)\n",
    "\n",
    "bin_mtx, thresholds = binarize(auc_for_bin)\n",
    "bin_mtx.to_csv(BIN_MTX_FNAME)\n",
    "thresholds.to_frame().rename(columns={0:'threshold'}).to_csv(THR_FNAME)\n",
    "\n",
    "bin_mtx = pd.read_csv(BIN_MTX_FNAME, index_col=0)\n",
    "thresholds = pd.read_csv(THR_FNAME, index_col=0).threshold"
   ]
  },
  {
   "cell_type": "code",
   "execution_count": null,
   "id": "d7f79486",
   "metadata": {},
   "outputs": [],
   "source": [
    "N_COLORS = len(adata.obs.cell_type.unique())\n",
    "COLORS = [color['color'] for color in mpl.rcParams[\"axes.prop_cycle\"]]\n",
    "\n",
    "sns.set()\n",
    "sc.pp.highly_variable_genes(adata)\n",
    "sc.pl.highly_variable_genes(adata)\n",
    "#adata = adata[:, adata.var['highly_variable']]\n",
    "\n",
    "sc.tl.pca(adata, svd_solver='arpack')\n",
    "sc.pl.pca(adata, color='CD8A')\n",
    "\n",
    "sc.tl.tsne(adata)\n",
    "sc.set_figure_params(frameon=False, dpi=150, fontsize=8)\n",
    "sc.pl.tsne(adata, color=['cell_type', 'lesion_type', 'patient_id'], \n",
    "           title=['GSE115978 - SKCM - Cell types', 'GSE115978 - SKCM - Lesion types',\n",
    "                 'GSE115978 - SKCM - {} patients'.format(len(adata.obs.patient_id.unique()))], ncols=3, palette=COLORS)\n",
    "\n",
    "add_scenic_metadata(adata, auc_mtx, regulons)\n",
    "df_obs = adata.obs\n",
    "signature_column_names = list(df_obs.select_dtypes('number').columns)\n",
    "signature_column_names = list(filter(lambda s: s.startswith('Regulon('), signature_column_names))\n",
    "df_scores = df_obs[signature_column_names + ['cell_type']]\n",
    "df_results = ((df_scores.groupby(by='cell_type').mean() - df_obs[signature_column_names].mean())/ df_obs[signature_column_names].std()).stack().reset_index().rename(columns={'level_1': 'regulon', 0:'Z'})\n",
    "df_results['regulon'] = list(map(lambda s: s[8:-1], df_results.regulon))\n",
    "print(df_results[(df_results.Z >= 3.0)].sort_values('Z', ascending=False).head())\n",
    "\n",
    "print(np.sum(df_results.Z >= 3.0))\n",
    "print(np.sum(df_results.Z >= 2.0))\n",
    "\n",
    "df_results.to_csv('test_SCENIC/ImputeEvaluation/results/GSE115978scRMD_CellTypeRegulonZ.csv')\n",
    "\n"
   ]
  },
  {
   "cell_type": "code",
   "execution_count": null,
   "id": "cd76ff4d",
   "metadata": {},
   "outputs": [],
   "source": []
  }
 ],
 "metadata": {
  "kernelspec": {
   "display_name": "Python 3 (ipykernel)",
   "language": "python",
   "name": "python3"
  },
  "language_info": {
   "codemirror_mode": {
    "name": "ipython",
    "version": 3
   },
   "file_extension": ".py",
   "mimetype": "text/x-python",
   "name": "python",
   "nbconvert_exporter": "python",
   "pygments_lexer": "ipython3",
   "version": "3.8.17"
  }
 },
 "nbformat": 4,
 "nbformat_minor": 5
}
