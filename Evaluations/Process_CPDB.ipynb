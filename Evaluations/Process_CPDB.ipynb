{
 "cells": [
  {
   "cell_type": "code",
   "execution_count": null,
   "id": "7c316445",
   "metadata": {},
   "outputs": [],
   "source": [
    "import pandas as pd\n",
    "import glob\n",
    "import os\n",
    "from IPython.display import HTML, display\n",
    "from cellphonedb.utils import db_releases_utils\n",
    "from cellphonedb.utils import db_utils\n",
    "import anndata\n",
    "from cellphonedb.src.core.methods import cpdb_statistical_analysis_method\n",
    "import ktplotspy as kpy"
   ]
  },
  {
   "cell_type": "code",
   "execution_count": null,
   "id": "4972034e",
   "metadata": {},
   "outputs": [],
   "source": [
    "#process metadat for combining endo cell type\n",
    "metadata_d = pd.read_csv('rawTXT/decidua_downsample10k_metadata_cutted.txt', sep='\\t')\n",
    "#metadata_d['cell_type2'] = list(metadata_d['cell_type'])\n",
    "metadata_d['cell_type'] = metadata_d['cell_type'].replace('Endo (m)','Endo')\n",
    "metadata_d['cell_type'] = metadata_d['cell_type'].replace('Endo L','Endo')\n",
    "metadata_d['cell_type'] = metadata_d['cell_type'].replace('Endo (f)','Endo')\n",
    "metadata_d['cell_type'].value_counts()\n",
    "\n",
    "metadata_d.to_csv('rawTXT/decidua_downsample10k_metadata_cutted2.txt', sep='\\t',index=False)"
   ]
  },
  {
   "cell_type": "code",
   "execution_count": null,
   "id": "a0ee86e2",
   "metadata": {},
   "outputs": [],
   "source": [
    "cpdb_file_path = 'db/v4.1.0/cellphonedb.zip'\n",
    "meta_file_path = 'rawTXT/decidua_downsample10k_metadata_cutted2.txt'\n",
    "counts_file_path = 'rawTXT/decidua_downsample10k_filteredGenes_lognorm.h5ad'\n",
    "out_path = 'imputed_res/rawLogNorm/decidua'"
   ]
  },
  {
   "cell_type": "code",
   "execution_count": null,
   "id": "e15bc5f4",
   "metadata": {},
   "outputs": [],
   "source": [
    "metadata = pd.read_csv(meta_file_path, sep='\\t')\n",
    "metadata.head(3)"
   ]
  },
  {
   "cell_type": "code",
   "execution_count": null,
   "id": "5554fb9d",
   "metadata": {},
   "outputs": [],
   "source": [
    "adata = anndata.read_h5ad(counts_file_path)\n",
    "#adata.obs_names.name = 'barcode_sample'\n",
    "adata.shape"
   ]
  },
  {
   "cell_type": "code",
   "execution_count": null,
   "id": "b0e6f762",
   "metadata": {},
   "outputs": [],
   "source": [
    "print(adata.obs_names[1:5])\n",
    "print(adata.var_names[1:5])"
   ]
  },
  {
   "cell_type": "code",
   "execution_count": null,
   "id": "b55cdc4c",
   "metadata": {},
   "outputs": [],
   "source": [
    "adata[0:5,0:5].to_df()"
   ]
  },
  {
   "cell_type": "code",
   "execution_count": null,
   "id": "5d1bef64",
   "metadata": {},
   "outputs": [],
   "source": [
    "#list(adata.obs.index).sort() == list(metadata['barcode_sample']).sort()\n",
    "list(adata.obs.index)==list(metadata['barcode_sample'])"
   ]
  },
  {
   "cell_type": "code",
   "execution_count": null,
   "id": "9370bba2",
   "metadata": {},
   "outputs": [],
   "source": [
    "deconvoluted, means, pvalues, significant_means = cpdb_statistical_analysis_method.call(\n",
    "    cpdb_file_path = cpdb_file_path,                 # mandatory: CellPhoneDB database zip file.\n",
    "    meta_file_path = meta_file_path,                 # mandatory: tsv file defining barcodes to cell label.\n",
    "    counts_file_path = counts_file_path,             # mandatory: normalized count matrix.\n",
    "    counts_data = 'hgnc_symbol',                     # defines the gene annotation in counts matrix.\n",
    "    #microenvs_file_path = microenvs_file_path,       # optional (default: None): defines cells per microenvironment.\n",
    "    iterations = 1000,                               # denotes the number of shufflings performed in the analysis.\n",
    "    threshold = 0.1,                                 # defines the min % of cells expressing a gene for this to be employed in the analysis.\n",
    "    threads = 4,                                     # number of threads to use in the analysis.\n",
    "    debug_seed = 42,                                 # debug randome seed. To disable >=0.\n",
    "    result_precision = 3,                            # Sets the rounding for the mean values in significan_means.\n",
    "    pvalue = 0.05,                                   # P-value threshold to employ for significance.\n",
    "    subsampling = False,                             # To enable subsampling the data (geometri sketching).\n",
    "    subsampling_log = False,                         # (mandatory) enable subsampling log1p for non log-transformed data inputs.\n",
    "    subsampling_num_pc = 100,                        # Number of componets to subsample via geometric skectching (dafault: 100).\n",
    "    subsampling_num_cells = 10000,                    # Number of cells to subsample (integer) (default: 1/3 of the dataset).\n",
    "    separator = '|',                                 # Sets the string to employ to separate cells in the results dataframes \"cellA|CellB\".\n",
    "    debug = False,                                   # Saves all intermediate tables employed during the analysis in pkl format.\n",
    "    output_path = out_path,                          # Path to save results.\n",
    "    output_suffix = None                             # Replaces the timestamp in the output files by a user defined string in the  (default: None).\n",
    "    )"
   ]
  },
  {
   "cell_type": "code",
   "execution_count": null,
   "id": "c6477e7a",
   "metadata": {},
   "outputs": [],
   "source": []
  },
  {
   "cell_type": "code",
   "execution_count": null,
   "id": "067d511f",
   "metadata": {},
   "outputs": [],
   "source": [
    "#afMF process decidua\n",
    "meta_file_path = 'test_CellPhoneDB/rawTXT/decidua_downsample10k_metadata_cutted.txt'\n",
    "counts_file_path = 'afMF/imputed_data/decidua_downsample10k_filteredGenes_sigma3_0_convergence_True.txt'\n",
    "metadata = pd.read_csv(meta_file_path, sep='\\t')\n",
    "print(metadata.head(3))\n",
    "adata = anndata.read_csv(counts_file_path,delimiter=\"\\t\")\n",
    "print(adata.shape)\n",
    "adata = adata.transpose()\n",
    "adata.obs_names.name = 'barcode_sample'\n",
    "print(adata.obs_names[1:5])\n",
    "print(adata.var_names[1:5])\n",
    "print(adata[0:5,0:5].to_df())\n",
    "adata.write_h5ad('afMF/imputed_data/decidua_downsample10k_filteredGenes.h5ad')"
   ]
  },
  {
   "cell_type": "code",
   "execution_count": null,
   "id": "02a7ce7c",
   "metadata": {},
   "outputs": [],
   "source": [
    "#run cpdb\n",
    "cpdb_file_path = 'test_CellPhoneDB/db/v4.1.0/cellphonedb.zip'\n",
    "meta_file_path = 'test_CellPhoneDB/rawTXT/decidua_downsample10k_metadata_cutted2.txt'\n",
    "out_path = 'test_CellPhoneDB/imputed_res/afMF/decidua'\n",
    "counts_file_path = 'afMF/imputed_data/decidua_downsample10k_filteredGenes.h5ad'"
   ]
  },
  {
   "cell_type": "code",
   "execution_count": null,
   "id": "5f658494",
   "metadata": {},
   "outputs": [],
   "source": [
    "deconvoluted, means, pvalues, significant_means = cpdb_statistical_analysis_method.call(\n",
    "    cpdb_file_path = cpdb_file_path,                 # mandatory: CellPhoneDB database zip file.\n",
    "    meta_file_path = meta_file_path,                 # mandatory: tsv file defining barcodes to cell label.\n",
    "    counts_file_path = counts_file_path,             # mandatory: normalized count matrix.\n",
    "    counts_data = 'hgnc_symbol',                     # defines the gene annotation in counts matrix.\n",
    "    #microenvs_file_path = microenvs_file_path,       # optional (default: None): defines cells per microenvironment.\n",
    "    iterations = 1000,                               # denotes the number of shufflings performed in the analysis.\n",
    "    threshold = 0.1,                                 # defines the min % of cells expressing a gene for this to be employed in the analysis.\n",
    "    threads = 4,                                     # number of threads to use in the analysis.\n",
    "    debug_seed = 42,                                 # debug randome seed. To disable >=0.\n",
    "    result_precision = 3,                            # Sets the rounding for the mean values in significan_means.\n",
    "    pvalue = 0.05,                                   # P-value threshold to employ for significance.\n",
    "    subsampling = False,                             # To enable subsampling the data (geometri sketching).\n",
    "    subsampling_log = False,                         # (mandatory) enable subsampling log1p for non log-transformed data inputs.\n",
    "    subsampling_num_pc = 100,                        # Number of componets to subsample via geometric skectching (dafault: 100).\n",
    "    subsampling_num_cells = 10000,                    # Number of cells to subsample (integer) (default: 1/3 of the dataset).\n",
    "    separator = '|',                                 # Sets the string to employ to separate cells in the results dataframes \"cellA|CellB\".\n",
    "    debug = False,                                   # Saves all intermediate tables employed during the analysis in pkl format.\n",
    "    output_path = out_path,                          # Path to save results.\n",
    "    output_suffix = None                             # Replaces the timestamp in the output files by a user defined string in the  (default: None).\n",
    "    )"
   ]
  },
  {
   "cell_type": "code",
   "execution_count": null,
   "id": "2659847c",
   "metadata": {},
   "outputs": [],
   "source": []
  }
 ],
 "metadata": {
  "kernelspec": {
   "display_name": "Python 3 (ipykernel)",
   "language": "python",
   "name": "python3"
  },
  "language_info": {
   "codemirror_mode": {
    "name": "ipython",
    "version": 3
   },
   "file_extension": ".py",
   "mimetype": "text/x-python",
   "name": "python",
   "nbconvert_exporter": "python",
   "pygments_lexer": "ipython3",
   "version": "3.8.17"
  }
 },
 "nbformat": 4,
 "nbformat_minor": 5
}
